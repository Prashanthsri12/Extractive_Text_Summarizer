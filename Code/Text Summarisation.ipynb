{
 "cells": [
  {
   "cell_type": "code",
   "execution_count": 3,
   "metadata": {},
   "outputs": [
    {
     "name": "stdout",
     "output_type": "stream",
     "text": [
      "[nltk_data] Downloading package stopwords to\n",
      "[nltk_data]     C:\\Users\\Lenovo\\AppData\\Roaming\\nltk_data...\n",
      "[nltk_data]   Package stopwords is already up-to-date!\n"
     ]
    }
   ],
   "source": [
    "from nltk.cluster.util import cosine_distance\n",
    "from nltk.corpus import stopwords\n",
    "import numpy as np\n",
    "import pandas as pd\n",
    "import networkx as nx\n",
    "from string import punctuation\n",
    "import nltk\n",
    "nltk.download('stopwords')\n",
    "import io"
   ]
  },
  {
   "cell_type": "code",
   "execution_count": 4,
   "metadata": {
    "scrolled": true
   },
   "outputs": [],
   "source": [
    "def data_summary(data,top_n):\n",
    "    stop_words = set(stopwords.words(\"english\"))\n",
    "    summary=[]\n",
    "    for X in data:\n",
    "\n",
    "        #----------------------------------------------------\n",
    "        #reading sentence\n",
    "\n",
    "        sentences = nltk.tokenize.sent_tokenize(X)\n",
    "        #print(sentences)\n",
    "        #----------------------------------------------------\n",
    "        #sentence similarity\n",
    "\n",
    "        def sentence_similarity(sent1, sent2, stopwords=None):\n",
    "            if stopwords is None:\n",
    "                stopwords = []\n",
    "\n",
    "            sent1 = [w.lower() for w in sent1]\n",
    "            sent2 = [w.lower() for w in sent2]\n",
    "            #print(sent1,sent2)\n",
    "            all_words = list(set(sent1 + sent2))\n",
    "\n",
    "            vector1 = [0] * len(all_words)\n",
    "            vector2 = [0] * len(all_words)\n",
    "\n",
    "            # build the vector for the first sentence\n",
    "            for w in sent1:\n",
    "                if w in stopwords:\n",
    "                    continue\n",
    "                vector1[all_words.index(w)] += 1\n",
    "\n",
    "            # build the vector for the second sentence\n",
    "            for w in sent2:\n",
    "                if w in stopwords:\n",
    "                    continue\n",
    "                vector2[all_words.index(w)] += 1\n",
    "\n",
    "            return 1 - cosine_distance(vector1, vector2)\n",
    "\n",
    "        #print(\"sentence_similarity :\",sentence_similarity,'\\n','-'*50)\n",
    "\n",
    "        #-----------------------------------------------------------------------------\n",
    "        #similarity matrix\n",
    "\n",
    "        similarity_matrix = np.zeros((len(sentences), len(sentences)))\n",
    "        for idx1 in range(len(sentences)):\n",
    "                for idx2 in range(len(sentences)):\n",
    "                    if idx1 == idx2: #ignore if both are same sentences\n",
    "                        continue \n",
    "                    similarity_matrix[idx1][idx2] = sentence_similarity(sentences[idx1], sentences[idx2], stop_words)\n",
    "\n",
    "\n",
    "        #print(\"similarity matrix :\",similarity_matrix,'\\n','-'*50)\n",
    "\n",
    "        #------------------------------------------------------------------------------\n",
    "        #ranking sentence \n",
    "\n",
    "        sentence_similarity_graph = nx.from_numpy_array(similarity_matrix)\n",
    "        scores = nx.pagerank(sentence_similarity_graph)\n",
    "        ranked_sentence = sorted(((scores[i],s) for i,s in enumerate(sentences)), reverse=True) \n",
    "        #print(\"ranked_sentence :\",ranked_sentence,'\\n','-'*50)\n",
    "\n",
    "        #--------------------------------------------------------------------------------\n",
    "        #summarize text\n",
    "        summarize_text = []\n",
    "\n",
    "\n",
    "        #top_n = 15\n",
    "        for i in range(top_n):\n",
    "            if X != '-' :\n",
    "                summarize_text.append(\"\".join(ranked_sentence[i][1]))\n",
    "            else :\n",
    "                summarize_text.append('-')\n",
    "        #print(\"Summarize Text: \\n\", \". \".join(summarize_text))\n",
    "        #print('-'*110)\n",
    "\n",
    "        summary.append(\". \".join(summarize_text))\n",
    "    \n",
    "    return summary"
   ]
  },
  {
   "cell_type": "markdown",
   "metadata": {},
   "source": [
    "### ----------------------------------------------------------------------------------------------------------------------------------------------------------------"
   ]
  },
  {
   "cell_type": "markdown",
   "metadata": {},
   "source": [
    "## Testing with real news data"
   ]
  },
  {
   "cell_type": "code",
   "execution_count": 9,
   "metadata": {},
   "outputs": [],
   "source": [
    "news1 = '''Seven policemen in Kanpur were quarantined and their samples were sent for examination on Friday after a\n",
    "22-year-old man arrested on charges of cow slaughter tested positive for the coronavirus disease (Covid-19). Overall,\n",
    "23 policemen in the district have tested positive till date.On Thursday, the police raided a house in Deputy Padaho\n",
    "locality, and claimed to have recovered 16 kg meat and weapons allegedly used for slaughtering. The 22-year-old was\n",
    "held with three others. The arrest was registered only on Friday. The police said the meat would be sent to a laboratory\n",
    "for testing since it was suspected to be beef. “While the formalities were being done, we got information that samples\n",
    "of one of the four were collected randomly a few days back in Anwarganj. We checked with officials and found his report\n",
    "was positive,” said Chamanganj Station House Officer Raj Bahadur Singh.'''\n",
    "\n",
    "\n",
    "given_headline_news1 = '''Seven Kanpur cops quarantined after accused tests positive. '''"
   ]
  },
  {
   "cell_type": "code",
   "execution_count": 10,
   "metadata": {},
   "outputs": [
    {
     "data": {
      "text/plain": [
       "['“While the formalities were being done, we got information that samples\\nof one of the four were collected randomly a few days back in Anwarganj.. Seven policemen in Kanpur were quarantined and their samples were sent for examination on Friday after a\\n22-year-old man arrested on charges of cow slaughter tested positive for the coronavirus disease (Covid-19).. Overall,\\n23 policemen in the district have tested positive till date.On Thursday, the police raided a house in Deputy Padaho\\nlocality, and claimed to have recovered 16 kg meat and weapons allegedly used for slaughtering.']"
      ]
     },
     "execution_count": 10,
     "metadata": {},
     "output_type": "execute_result"
    }
   ],
   "source": [
    "news1_summary = data_summary(pd.Series([news1]),3)\n",
    "news1_summary"
   ]
  },
  {
   "cell_type": "code",
   "execution_count": null,
   "metadata": {},
   "outputs": [],
   "source": []
  },
  {
   "cell_type": "code",
   "execution_count": 11,
   "metadata": {},
   "outputs": [],
   "source": [
    "news2 = '''Chief Minister Mamata Banerjee on Saturday announced that her government had decided to bear the entire cost\n",
    "of the return journey of migrant workers from West Bengal stranded in other states, even as the administration said an\n",
    "international flight carrying 160 citizens from Dhaka would land in the city on Monday. Earlier this month, the Centre\n",
    "had said 85 per cent of the cost of train tickets would be borne by the Ministry of Railways, while the rest would have\n",
    "to be paid by the states. Banerjee’s announcement came a day after Railway Minister Piyush Goyal accused a number of\n",
    "states, including West Bengal, of not granting permission to receive the trains. The states dismissed the minister’s\n",
    "claim. “Saluting the toil faced by our migrant brethren, I am pleased to announce the decision of GoWB to bear the entire\n",
    "cost of movement for our migrant workers by special trains from other states to West Bengal. No migrant will be charged.\n",
    "Letter to Railway Board attached,” tweeted Banerjee, attaching Chief Secretary Rajiva Sinha’s letter to Railway Board \n",
    "Chairperson VK Yadav. In his letter, Sinha wrote, “I would like to confirm that the entire cost of the movement by\n",
    "special trains to West Bengal, of the migrants of the state stranded in various parts of the country, shall be borne \n",
    "by the Government of West Bengal.” Later in the afternoon, Home Secretary Alapan Bandyopadhyay briefed reporters about\n",
    "this decision at state secretariat Nabanna. “These trains are only for stranded people who are under distress, and not \n",
    "for normal movements. All migrant labourers, students, and pilgrims can come back to West Bengal without any tickets. \n",
    "The state government will bear the cost,” he added. Giving an update about the 105 additional special trains that Mamata\n",
    "Banerjee had announced on Thursday, the Home Secretary said: “Already seven trains have entered the state. Two more are \n",
    "coming. Total 105 trains are coming. Out of which, 28 are coming from Kerala, 18 from Maharashtra, 10 from Tamil Nadu, \n",
    "seven from Uttar Pradesh, six each from Delhi, Haryana and Rajasthan, five each from Gujarat, Karnataka and Telangana,\n",
    "three from Andhra Pradesh, two from Punjab, and one each from Himachal Pradesh, Jammu and Kashmir, Madhya Pradesh and \n",
    "Uttarakhand.” Bandyopadhyay said the effort to bring back those stranded was a “huge and herculean exercise”.'''\n",
    "\n",
    "given_headline_news2 = '''West Bengal will cover cost of migrants’ train journey home: Mamata Banerjee'''"
   ]
  },
  {
   "cell_type": "code",
   "execution_count": 12,
   "metadata": {
    "scrolled": true
   },
   "outputs": [
    {
     "data": {
      "text/plain": [
       "['In his letter, Sinha wrote, “I would like to confirm that the entire cost of the movement by\\nspecial trains to West Bengal, of the migrants of the state stranded in various parts of the country, shall be borne \\nby the Government of West Bengal.” Later in the afternoon, Home Secretary Alapan Bandyopadhyay briefed reporters about\\nthis decision at state secretariat Nabanna.. “Saluting the toil faced by our migrant brethren, I am pleased to announce the decision of GoWB to bear the entire\\ncost of movement for our migrant workers by special trains from other states to West Bengal.']"
      ]
     },
     "execution_count": 12,
     "metadata": {},
     "output_type": "execute_result"
    }
   ],
   "source": [
    "news2_summary = data_summary(pd.Series([news2]),2)\n",
    "news2_summary"
   ]
  },
  {
   "cell_type": "code",
   "execution_count": 13,
   "metadata": {},
   "outputs": [],
   "source": [
    "news3 = '''In a direct snub to Bihar Chief Minister and JD(U) leader Nitish Kumar, Lok Jan Shakti Party (LJP) \n",
    "president Chirag Paswan asserted that only the BJP can decide who would lead the National Democratic Alliance (NDA) \n",
    "in Assembly elections slated for end of this year. His statement comes ahead of Home Minister Amit Shah’s digital rally\n",
    "addressing the State voters on Sunday. Mr. Paswan’s statement comes at a time when voices within the BJP have been \n",
    "picking faults with Mr. Kumar’s handling of the COVID-19 crisis. Many have been demanding that Mr. Kumar hand over \n",
    "the Chief Minister’s position to the BJP. Mr Paswan’s statement is convenient for the BJP, which so far officially \n",
    "maintains that Mr. Kumar will continue to be the face of the NDA. “Who will be the face of the NDA and lead us into \n",
    "the Assembly elections will be decided by the BJP, which is the largest constituent of the NDA in the State. Whatever \n",
    "decision the BJP will take in the interest of Bihar and the coalition, the Lok Jan Shakti Party will fully support it,” \n",
    "Mr Paswan tweeted on Saturday. He has openly slammed Mr. Kumar, for what he called delayed response in getting stranded \n",
    "students and migrant workers back during the extended lockdown. The LJP, meanwhile, is struggling to remain politically \n",
    "relevant in a State where at present it has not a single MLA. In 2015, it fought in alliance with the BJP, the Hindustan \n",
    "Awam Morcha and the Rashtriya Lok Samata Party. Out of the 243 seats, they got 42 in the alliance but could only win two. \n",
    "Even the two MLAs it managed to send to the Assembly shifted loyalties later on. The JD(U), in 2015 was with the \n",
    "‘grand alliance’ with the RJD and the Congress. The LJP is worried that it may not get 42 seats, like it got in the \n",
    "last elections, with the JD(U) back in the NDA. Concentrating on an online campaign now, Mr. Paswan has come up with \n",
    "a slogan “Bihar 1st, Bihari 1st” for the elections. In November last, the party had begun a membership drive aiming to \n",
    "connect 50 lakh new members. But so far, according to their own estimates, only 31 lakh members have joined.'''\n",
    "\n",
    "given_headline_news3 = '''BJP will decide face of NDA in Bihar Assembly polls: LJP'''"
   ]
  },
  {
   "cell_type": "code",
   "execution_count": 14,
   "metadata": {},
   "outputs": [
    {
     "data": {
      "text/plain": [
       "['In a direct snub to Bihar Chief Minister and JD(U) leader Nitish Kumar, Lok Jan Shakti Party (LJP) \\npresident Chirag Paswan asserted that only the BJP can decide who would lead the National Democratic Alliance (NDA) \\nin Assembly elections slated for end of this year.. Whatever \\ndecision the BJP will take in the interest of Bihar and the coalition, the Lok Jan Shakti Party will fully support it,” \\nMr Paswan tweeted on Saturday.. But so far, according to their own estimates, only 31 lakh members have joined.']"
      ]
     },
     "execution_count": 14,
     "metadata": {},
     "output_type": "execute_result"
    }
   ],
   "source": [
    "news3_summary = data_summary(pd.Series([news3]),3)\n",
    "news3_summary"
   ]
  },
  {
   "cell_type": "code",
   "execution_count": 15,
   "metadata": {},
   "outputs": [],
   "source": [
    "news4 = '''Two suspended Buffalo, New York, police officers pleaded not guilty Saturday to assaulting a 75-year-old man during a protest against racism and police brutality.\n",
    "Both were charged with one count of assault in the second degree and have been released on their own recognizance without bail.\n",
    "They were arraigned via video conference and had the same attorney.\n",
    "The officers, who were with the Police Department's Emergency Response Team, are scheduled to appear in court again July 20.\n",
    "Video from a demonstration Thursday shows two officers pushing Martin Gugino back. He falls to the sidewalk, where his head bleeds. The officers and others then walk by him, some looking down at him as they pass.\n",
    "Gugino was hospitalized with a head injury.\n",
    "Gov. Andrew Cuomo said Friday the officers should be fired and prosecutors should move \"fairly but quickly.\"\n",
    "\"When I saw the video, I got sick to my stomach,\" Cuomo said. \"I would encourage the district attorney not to do what happened in Minneapolis, which the delay itself caused issues. People don't want vaguery. They are upset and want answers.\"\n",
    "Mayor Byron Brown told CNN's Chris Cuomo on Friday night that he was told that emergency response team officers are trained to keep moving forward.\n",
    "\"Embedded with them are medics, officers with first-aid training,\" he said. \"The medics were just behind the first line unit that continued to move forward, and within seconds, the medics rendered first-aid assistance.\"\n",
    "Also Friday, 57 officers resigned from the Emergency Response Team. Brown said that's because they felt pressured by the police union.'''"
   ]
  },
  {
   "cell_type": "code",
   "execution_count": 16,
   "metadata": {},
   "outputs": [
    {
     "data": {
      "text/plain": [
       "['Both were charged with one count of assault in the second degree and have been released on their own recognizance without bail.. \"I would encourage the district attorney not to do what happened in Minneapolis, which the delay itself caused issues.. \"The medics were just behind the first line unit that continued to move forward, and within seconds, the medics rendered first-aid assistance.\"']"
      ]
     },
     "execution_count": 16,
     "metadata": {},
     "output_type": "execute_result"
    }
   ],
   "source": [
    "news4_summary = data_summary(pd.Series([news4]),3)\n",
    "news4_summary"
   ]
  }
 ],
 "metadata": {
  "kernelspec": {
   "display_name": "Python 3",
   "language": "python",
   "name": "python3"
  },
  "language_info": {
   "codemirror_mode": {
    "name": "ipython",
    "version": 3
   },
   "file_extension": ".py",
   "mimetype": "text/x-python",
   "name": "python",
   "nbconvert_exporter": "python",
   "pygments_lexer": "ipython3",
   "version": "3.7.6"
  }
 },
 "nbformat": 4,
 "nbformat_minor": 4
}
